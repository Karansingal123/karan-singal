{
 "cells": [
  {
   "cell_type": "markdown",
   "metadata": {},
   "source": [
    "DATA PREPARATION\n"
   ]
  },
  {
   "cell_type": "markdown",
   "metadata": {},
   "source": [
    "linear algebra"
   ]
  },
  {
   "cell_type": "code",
   "execution_count": 1,
   "metadata": {},
   "outputs": [],
   "source": [
    "import numpy as np \n",
    "# data processing\n",
    "import pandas as pd \n",
    "# os\n",
    "import os\n",
    "# Data Visualization\n",
    "import matplotlib.pyplot as plt    \n",
    "import seaborn as sns\n",
    "os.chdir('C:\\\\Users\\\\Admin\\\\OneDrive\\\\Desktop\\\\Project\\\\Python\\\\Project')"
   ]
  },
  {
   "cell_type": "code",
   "execution_count": 2,
   "metadata": {},
   "outputs": [
    {
     "data": {
      "text/plain": [
       "'C:\\\\Users\\\\Admin\\\\OneDrive\\\\Desktop\\\\Project\\\\Python\\\\Project'"
      ]
     },
     "execution_count": 2,
     "metadata": {},
     "output_type": "execute_result"
    }
   ],
   "source": [
    "os.getcwd()"
   ]
  },
  {
   "cell_type": "markdown",
   "metadata": {},
   "source": [
    "Import the dataset"
   ]
  },
  {
   "cell_type": "code",
   "execution_count": 3,
   "metadata": {},
   "outputs": [
    {
     "name": "stdout",
     "output_type": "stream",
     "text": [
      "   IATA_CODE                       AIRLINE\n",
      "0         UA         United Air Lines Inc.\n",
      "1         AA        American Airlines Inc.\n",
      "2         US               US Airways Inc.\n",
      "3         F9        Frontier Airlines Inc.\n",
      "4         B6               JetBlue Airways\n",
      "5         OO         Skywest Airlines Inc.\n",
      "6         AS          Alaska Airlines Inc.\n",
      "7         NK              Spirit Air Lines\n",
      "8         WN        Southwest Airlines Co.\n",
      "9         DL          Delta Air Lines Inc.\n",
      "10        EV   Atlantic Southeast Airlines\n",
      "11        HA        Hawaiian Airlines Inc.\n",
      "12        MQ  American Eagle Airlines Inc.\n",
      "13        VX                Virgin America\n"
     ]
    },
    {
     "data": {
      "text/html": [
       "<div>\n",
       "<style scoped>\n",
       "    .dataframe tbody tr th:only-of-type {\n",
       "        vertical-align: middle;\n",
       "    }\n",
       "\n",
       "    .dataframe tbody tr th {\n",
       "        vertical-align: top;\n",
       "    }\n",
       "\n",
       "    .dataframe thead th {\n",
       "        text-align: right;\n",
       "    }\n",
       "</style>\n",
       "<table border=\"1\" class=\"dataframe\">\n",
       "  <thead>\n",
       "    <tr style=\"text-align: right;\">\n",
       "      <th></th>\n",
       "      <th>IATA_CODE</th>\n",
       "      <th>AIRLINE</th>\n",
       "    </tr>\n",
       "  </thead>\n",
       "  <tbody>\n",
       "    <tr>\n",
       "      <td>count</td>\n",
       "      <td>14</td>\n",
       "      <td>14</td>\n",
       "    </tr>\n",
       "    <tr>\n",
       "      <td>unique</td>\n",
       "      <td>14</td>\n",
       "      <td>14</td>\n",
       "    </tr>\n",
       "    <tr>\n",
       "      <td>top</td>\n",
       "      <td>NK</td>\n",
       "      <td>Atlantic Southeast Airlines</td>\n",
       "    </tr>\n",
       "    <tr>\n",
       "      <td>freq</td>\n",
       "      <td>1</td>\n",
       "      <td>1</td>\n",
       "    </tr>\n",
       "  </tbody>\n",
       "</table>\n",
       "</div>"
      ],
      "text/plain": [
       "       IATA_CODE                      AIRLINE\n",
       "count         14                           14\n",
       "unique        14                           14\n",
       "top           NK  Atlantic Southeast Airlines\n",
       "freq           1                            1"
      ]
     },
     "execution_count": 3,
     "metadata": {},
     "output_type": "execute_result"
    }
   ],
   "source": [
    "# for importing the data from CSV \"C:\\Users\\Admin\\OneDrive\\Desktop\\Project\\Python\\Project\\flights.csv\"\n",
    "# flight data\n",
    "flights= pd.read_csv('flights.csv', low_memory=False)\n",
    "airlines = pd.read_csv('airlines.csv')\n",
    "airports = pd.read_csv('airports.csv')\n",
    "\n",
    "#Checking the data of csv files\n",
    "type(airlines)\n",
    "print(airlines)\n",
    "airlines.values\n",
    "airlines.describe()"
   ]
  },
  {
   "cell_type": "code",
   "execution_count": 4,
   "metadata": {},
   "outputs": [],
   "source": [
    "#merge flightsand airlines to replace Airline code with the actual airline/carrier name\n",
    "flights= flights.merge(airlines, left_on='AIRLINE', right_on='IATA_CODE', how='inner')\n",
    "# dropping old column and rename new one\n",
    "flights= flights.drop(['AIRLINE_x','IATA_CODE'], axis=1)\n",
    "flights= flights.rename(columns={\"AIRLINE_y\":\"AIRLINE\"})"
   ]
  },
  {
   "cell_type": "code",
   "execution_count": 5,
   "metadata": {},
   "outputs": [],
   "source": [
    "# convert the month values to actual months\n",
    "flights.loc[flights['MONTH'] == 1, 'MONTH'] = 'January'\n",
    "flights.loc[flights['MONTH'] == 2, 'MONTH'] = 'February'\n",
    "flights.loc[flights['MONTH'] == 3, 'MONTH'] = 'March'\n",
    "flights.loc[flights['MONTH'] == 4, 'MONTH'] = 'April'\n",
    "flights.loc[flights['MONTH'] == 5, 'MONTH'] = 'May'\n",
    "flights.loc[flights['MONTH'] == 6, 'MONTH'] = 'June'\n",
    "flights.loc[flights['MONTH'] == 7, 'MONTH'] = 'July'\n",
    "flights.loc[flights['MONTH'] == 8, 'MONTH'] = 'August'\n",
    "flights.loc[flights['MONTH'] == 9, 'MONTH'] = 'September'\n",
    "flights.loc[flights['MONTH'] == 10, 'MONTH'] = 'October'\n",
    "flights.loc[flights['MONTH'] == 11, 'MONTH'] = 'November'\n",
    "flights.loc[flights['MONTH'] == 12, 'MONTH'] = 'December'\n",
    "# converting cancellation reason to actual values\n",
    "flights.loc[flights['CANCELLATION_REASON'] == 'A', 'CANCELLATION_REASON'] = 'Airline/Carrier'\n",
    "flights.loc[flights['CANCELLATION_REASON'] == 'B', 'CANCELLATION_REASON'] = 'Weather'\n",
    "flights.loc[flights['CANCELLATION_REASON'] == 'C', 'CANCELLATION_REASON'] = 'National Air System'\n",
    "flights.loc[flights['CANCELLATION_REASON'] == 'D', 'CANCELLATION_REASON'] = 'Security'"
   ]
  },
  {
   "cell_type": "markdown",
   "metadata": {},
   "source": [
    "DATA ANALYSIS"
   ]
  },
  {
   "cell_type": "markdown",
   "metadata": {},
   "source": [
    "Analysis 1. What airline/carrier has the most number of flights?\n"
   ]
  },
  {
   "cell_type": "code",
   "execution_count": 7,
   "metadata": {},
   "outputs": [
    {
     "name": "stdout",
     "output_type": "stream",
     "text": [
      "\"The airline  of flights is Southwest Airlines Co.    1261855 in total Numbers\n"
     ]
    },
    {
     "data": {
      "text/plain": [
       "<matplotlib.axes._subplots.AxesSubplot at 0x2290007ea48>"
      ]
     },
     "execution_count": 7,
     "metadata": {},
     "output_type": "execute_result"
    },
    {
     "data": {
      "image/png": "[encoded data removed]",
      "text/plain": [
       "<Figure size 432x288 with 1 Axes>"
      ]
     },
     "metadata": {},
     "output_type": "display_data"
    }
   ],
   "source": [
    "# Count the number of flights by airline/carrier\n",
    "flights_by_airline = flights['AIRLINE'].value_counts()\n",
    "# Display the airline/carrier with the most number of flights\n",
    "print('\"The airline  of flights is',flights_by_airline.nlargest(1).to_string(),'in total Numbers')\n",
    "# For data visualization base on NUMBER OF FLIGHTS\n",
    "flights_by_airline.plot.pie()"
   ]
  },
  {
   "cell_type": "markdown",
   "metadata": {},
   "source": [
    "Analysis 2. Which month of the year has the most number of cancelled flights?"
   ]
  },
  {
   "cell_type": "code",
   "execution_count": 8,
   "metadata": {},
   "outputs": [
    {
     "data": {
      "text/plain": [
       "<matplotlib.axes._subplots.AxesSubplot at 0x2290113cdc8>"
      ]
     },
     "execution_count": 8,
     "metadata": {},
     "output_type": "execute_result"
    },
    {
     "data": {
      "image/png": "[encoded data removed]",
      "text/plain": [
       "<Figure size 432x288 with 1 Axes>"
      ]
     },
     "metadata": {
      "needs_background": "light"
     },
     "output_type": "display_data"
    }
   ],
   "source": [
    "# This will display the month where most number of cancelled flights occur.\n",
    "flights_grouped_sum = flights.groupby('AIRLINE', as_index= False)['ARRIVAL_DELAY'].agg('sum').rename(columns={\"ARRIVAL_DELAY\":\"ARRIVAL_DELAY_SUM\"})\n",
    "flights_by_month = flights.groupby(by='MONTH')['CANCELLED'].agg('count')\n",
    "flights_by_month.plot.bar(title='CANCELLED FLIGHTS BY MONTH')"
   ]
  },
  {
   "cell_type": "markdown",
   "metadata": {},
   "source": [
    "Analysis 3. Which airline company has the least delayed flight average?"
   ]
  },
  {
   "cell_type": "code",
   "execution_count": 9,
   "metadata": {},
   "outputs": [
    {
     "name": "stdout",
     "output_type": "stream",
     "text": [
      "\"The carrier/airline with the most number of delayed flights is  SOUTHWEST AIRLINES CO. \"\n"
     ]
    }
   ],
   "source": [
    "#Group by airline and count the values\n",
    "flights_grouped_cnt = flights.groupby('AIRLINE', as_index= False)['ARRIVAL_DELAY'].agg('count').rename(columns={\"ARRIVAL_DELAY\":\"ARRIVAL_DELAY_CNT\"})\n",
    "# Sort delay count for each airline/carrier\n",
    "flights_grouped_cnt_sort = flights_grouped_cnt.sort_values('ARRIVAL_DELAY_CNT',ascending=False)\n",
    "# This will display which airline has the most number of cancelled flights\n",
    "print('\"The carrier/airline with the most number of delayed flights is',flights_grouped_cnt_sort['AIRLINE'].head(1).to_string(index=False).upper(),'\"')\n"
   ]
  },
  {
   "cell_type": "markdown",
   "metadata": {},
   "source": [
    "Analysis 4. Which airline/carrier has the least average delay time?"
   ]
  },
  {
   "cell_type": "code",
   "execution_count": 10,
   "metadata": {},
   "outputs": [
    {
     "name": "stdout",
     "output_type": "stream",
     "text": [
      "\" The carrier/airline with the least average time of delayed flights is  ALASKA AIRLINES INC.  \"\n"
     ]
    }
   ],
   "source": [
    "# Group by airline and sum up / count the values\n",
    "flights_grouped_sum = flights.groupby('AIRLINE', as_index= False)['ARRIVAL_DELAY'].agg('sum').rename(columns={\"ARRIVAL_DELAY\":\"ARRIVAL_DELAY_SUM\"})\n",
    "# Merge two data sets to get the average delay time\n",
    "flights_delayed_avg = flights_grouped_cnt.merge(flights_grouped_sum, left_on='AIRLINE', right_on='AIRLINE', how='inner')\n",
    "flights_delayed_avg.loc[:,'AVG_DELAY_AIRLINE'] = flights_delayed_avg['ARRIVAL_DELAY_SUM'] / flights_delayed_avg['ARRIVAL_DELAY_CNT']\n",
    "# Sort average delay time for each airline/carrier\n",
    "flights_delayed_avg_sort = flights_delayed_avg.sort_values('AVG_DELAY_AIRLINE', ascending=True)\n",
    "# This will display the airline with least average delay time\n",
    "print('\" The carrier/airline with the least average time of delayed flights is',flights_delayed_avg_sort['AIRLINE'].head(1).to_string(index=False).upper(),' \"')"
   ]
  },
  {
   "cell_type": "markdown",
   "metadata": {},
   "source": [
    "Analysis 5. What is the most common reason for flight cancellation?"
   ]
  },
  {
   "cell_type": "code",
   "execution_count": 11,
   "metadata": {},
   "outputs": [
    {
     "name": "stdout",
     "output_type": "stream",
     "text": [
      "\"The reason for cancellation on most flights is Weather    48851 in total numbers \"\n"
     ]
    },
    {
     "data": {
      "text/plain": [
       "<matplotlib.axes._subplots.AxesSubplot at 0x22901231a88>"
      ]
     },
     "execution_count": 11,
     "metadata": {},
     "output_type": "execute_result"
    },
    {
     "data": {
      "image/png": "[encoded data removed]",
      "text/plain": [
       "<Figure size 432x288 with 1 Axes>"
      ]
     },
     "metadata": {},
     "output_type": "display_data"
    }
   ],
   "source": [
    "# Count the number of flights cancelled based on cancellation reason.\n",
    "flights_cancellation = flights['CANCELLATION_REASON'].value_counts()\n",
    "# Display the reason for cancellation on most number of flights.\n",
    "print('\"The reason for cancellation on most flights is',flights_cancellation.nlargest(1).to_string(),'in total numbers'' \"')\n",
    "# For data visualization base on CANCELLATION REASON\n",
    "flights_cancellation.plot(kind='pie',title='FLIGHT CANCELLATION REASON')"
   ]
  },
  {
   "cell_type": "markdown",
   "metadata": {},
   "source": [
    "Analysis 6. How many flights per month are delayed/cancelled for security reason?"
   ]
  },
  {
   "cell_type": "code",
   "execution_count": 12,
   "metadata": {},
   "outputs": [
    {
     "data": {
      "text/html": [
       "<div>\n",
       "<style scoped>\n",
       "    .dataframe tbody tr th:only-of-type {\n",
       "        vertical-align: middle;\n",
       "    }\n",
       "\n",
       "    .dataframe tbody tr th {\n",
       "        vertical-align: top;\n",
       "    }\n",
       "\n",
       "    .dataframe thead th {\n",
       "        text-align: right;\n",
       "    }\n",
       "</style>\n",
       "<table border=\"1\" class=\"dataframe\">\n",
       "  <thead>\n",
       "    <tr style=\"text-align: right;\">\n",
       "      <th></th>\n",
       "      <th>MONTH</th>\n",
       "      <th>CANCELLATION_REASON</th>\n",
       "    </tr>\n",
       "  </thead>\n",
       "  <tbody>\n",
       "    <tr>\n",
       "      <td>6</td>\n",
       "      <td>November</td>\n",
       "      <td>11</td>\n",
       "    </tr>\n",
       "    <tr>\n",
       "      <td>4</td>\n",
       "      <td>March</td>\n",
       "      <td>5</td>\n",
       "    </tr>\n",
       "    <tr>\n",
       "      <td>0</td>\n",
       "      <td>August</td>\n",
       "      <td>2</td>\n",
       "    </tr>\n",
       "    <tr>\n",
       "      <td>1</td>\n",
       "      <td>February</td>\n",
       "      <td>1</td>\n",
       "    </tr>\n",
       "    <tr>\n",
       "      <td>2</td>\n",
       "      <td>January</td>\n",
       "      <td>1</td>\n",
       "    </tr>\n",
       "    <tr>\n",
       "      <td>3</td>\n",
       "      <td>July</td>\n",
       "      <td>1</td>\n",
       "    </tr>\n",
       "    <tr>\n",
       "      <td>5</td>\n",
       "      <td>May</td>\n",
       "      <td>1</td>\n",
       "    </tr>\n",
       "  </tbody>\n",
       "</table>\n",
       "</div>"
      ],
      "text/plain": [
       "      MONTH  CANCELLATION_REASON\n",
       "6  November                   11\n",
       "4     March                    5\n",
       "0    August                    2\n",
       "1  February                    1\n",
       "2   January                    1\n",
       "3      July                    1\n",
       "5       May                    1"
      ]
     },
     "execution_count": 12,
     "metadata": {},
     "output_type": "execute_result"
    }
   ],
   "source": [
    "#Create a subset of data that contain the number of flights cancelled for security reason. \n",
    "cancelled_due_to_sec = flights[flights['CANCELLATION_REASON'] == 'Security'].groupby('MONTH', as_index= False)['CANCELLATION_REASON'].agg('count').sort_values('CANCELLATION_REASON',ascending=False)\n",
    "cancelled_due_to_sec\n"
   ]
  },
  {
   "cell_type": "markdown",
   "metadata": {},
   "source": [
    " Analysis  7. How many flights per week are delayed/cancelled due to the weather?"
   ]
  },
  {
   "cell_type": "code",
   "execution_count": 13,
   "metadata": {},
   "outputs": [
    {
     "data": {
      "text/html": [
       "<div>\n",
       "<style scoped>\n",
       "    .dataframe tbody tr th:only-of-type {\n",
       "        vertical-align: middle;\n",
       "    }\n",
       "\n",
       "    .dataframe tbody tr th {\n",
       "        vertical-align: top;\n",
       "    }\n",
       "\n",
       "    .dataframe thead th {\n",
       "        text-align: right;\n",
       "    }\n",
       "</style>\n",
       "<table border=\"1\" class=\"dataframe\">\n",
       "  <thead>\n",
       "    <tr style=\"text-align: right;\">\n",
       "      <th></th>\n",
       "      <th>MONTH</th>\n",
       "      <th>CANCELLATION_REASON</th>\n",
       "    </tr>\n",
       "  </thead>\n",
       "  <tbody>\n",
       "    <tr>\n",
       "      <td>3</td>\n",
       "      <td>February</td>\n",
       "      <td>15447</td>\n",
       "    </tr>\n",
       "    <tr>\n",
       "      <td>4</td>\n",
       "      <td>January</td>\n",
       "      <td>7020</td>\n",
       "    </tr>\n",
       "    <tr>\n",
       "      <td>7</td>\n",
       "      <td>March</td>\n",
       "      <td>6864</td>\n",
       "    </tr>\n",
       "    <tr>\n",
       "      <td>2</td>\n",
       "      <td>December</td>\n",
       "      <td>5613</td>\n",
       "    </tr>\n",
       "    <tr>\n",
       "      <td>6</td>\n",
       "      <td>June</td>\n",
       "      <td>3325</td>\n",
       "    </tr>\n",
       "    <tr>\n",
       "      <td>8</td>\n",
       "      <td>May</td>\n",
       "      <td>2780</td>\n",
       "    </tr>\n",
       "    <tr>\n",
       "      <td>9</td>\n",
       "      <td>November</td>\n",
       "      <td>2339</td>\n",
       "    </tr>\n",
       "    <tr>\n",
       "      <td>0</td>\n",
       "      <td>April</td>\n",
       "      <td>1789</td>\n",
       "    </tr>\n",
       "    <tr>\n",
       "      <td>1</td>\n",
       "      <td>August</td>\n",
       "      <td>1310</td>\n",
       "    </tr>\n",
       "    <tr>\n",
       "      <td>10</td>\n",
       "      <td>October</td>\n",
       "      <td>977</td>\n",
       "    </tr>\n",
       "    <tr>\n",
       "      <td>5</td>\n",
       "      <td>July</td>\n",
       "      <td>882</td>\n",
       "    </tr>\n",
       "    <tr>\n",
       "      <td>11</td>\n",
       "      <td>September</td>\n",
       "      <td>505</td>\n",
       "    </tr>\n",
       "  </tbody>\n",
       "</table>\n",
       "</div>"
      ],
      "text/plain": [
       "        MONTH  CANCELLATION_REASON\n",
       "3    February                15447\n",
       "4     January                 7020\n",
       "7       March                 6864\n",
       "2    December                 5613\n",
       "6        June                 3325\n",
       "8         May                 2780\n",
       "9    November                 2339\n",
       "0       April                 1789\n",
       "1      August                 1310\n",
       "10    October                  977\n",
       "5        July                  882\n",
       "11  September                  505"
      ]
     },
     "execution_count": 13,
     "metadata": {},
     "output_type": "execute_result"
    }
   ],
   "source": [
    "#Create a subset of data that contain the number of flights cancelled due to Weather. \n",
    "cancelled_due_to_weather = flights[flights['CANCELLATION_REASON'] == 'Weather'].groupby('MONTH', as_index= False)['CANCELLATION_REASON'].agg('count').sort_values('CANCELLATION_REASON',ascending=False)\n",
    "cancelled_due_to_weather"
   ]
  },
  {
   "cell_type": "markdown",
   "metadata": {},
   "source": [
    "Analysis 8. How many flights per day are delayed/cancelled by the airline/carrier?"
   ]
  },
  {
   "cell_type": "code",
   "execution_count": 14,
   "metadata": {},
   "outputs": [
    {
     "data": {
      "text/html": [
       "<div>\n",
       "<style scoped>\n",
       "    .dataframe tbody tr th:only-of-type {\n",
       "        vertical-align: middle;\n",
       "    }\n",
       "\n",
       "    .dataframe tbody tr th {\n",
       "        vertical-align: top;\n",
       "    }\n",
       "\n",
       "    .dataframe thead th {\n",
       "        text-align: right;\n",
       "    }\n",
       "</style>\n",
       "<table border=\"1\" class=\"dataframe\">\n",
       "  <thead>\n",
       "    <tr style=\"text-align: right;\">\n",
       "      <th></th>\n",
       "      <th>MONTH</th>\n",
       "      <th>CANCELLATION_REASON</th>\n",
       "    </tr>\n",
       "  </thead>\n",
       "  <tbody>\n",
       "    <tr>\n",
       "      <td>6</td>\n",
       "      <td>June</td>\n",
       "      <td>3619</td>\n",
       "    </tr>\n",
       "    <tr>\n",
       "      <td>4</td>\n",
       "      <td>January</td>\n",
       "      <td>2874</td>\n",
       "    </tr>\n",
       "    <tr>\n",
       "      <td>3</td>\n",
       "      <td>February</td>\n",
       "      <td>2815</td>\n",
       "    </tr>\n",
       "    <tr>\n",
       "      <td>5</td>\n",
       "      <td>July</td>\n",
       "      <td>2588</td>\n",
       "    </tr>\n",
       "    <tr>\n",
       "      <td>7</td>\n",
       "      <td>March</td>\n",
       "      <td>2494</td>\n",
       "    </tr>\n",
       "    <tr>\n",
       "      <td>1</td>\n",
       "      <td>August</td>\n",
       "      <td>2364</td>\n",
       "    </tr>\n",
       "    <tr>\n",
       "      <td>8</td>\n",
       "      <td>May</td>\n",
       "      <td>2007</td>\n",
       "    </tr>\n",
       "    <tr>\n",
       "      <td>0</td>\n",
       "      <td>April</td>\n",
       "      <td>1796</td>\n",
       "    </tr>\n",
       "    <tr>\n",
       "      <td>2</td>\n",
       "      <td>December</td>\n",
       "      <td>1579</td>\n",
       "    </tr>\n",
       "    <tr>\n",
       "      <td>11</td>\n",
       "      <td>September</td>\n",
       "      <td>1088</td>\n",
       "    </tr>\n",
       "    <tr>\n",
       "      <td>9</td>\n",
       "      <td>November</td>\n",
       "      <td>1085</td>\n",
       "    </tr>\n",
       "    <tr>\n",
       "      <td>10</td>\n",
       "      <td>October</td>\n",
       "      <td>953</td>\n",
       "    </tr>\n",
       "  </tbody>\n",
       "</table>\n",
       "</div>"
      ],
      "text/plain": [
       "        MONTH  CANCELLATION_REASON\n",
       "6        June                 3619\n",
       "4     January                 2874\n",
       "3    February                 2815\n",
       "5        July                 2588\n",
       "7       March                 2494\n",
       "1      August                 2364\n",
       "8         May                 2007\n",
       "0       April                 1796\n",
       "2    December                 1579\n",
       "11  September                 1088\n",
       "9    November                 1085\n",
       "10    October                  953"
      ]
     },
     "execution_count": 14,
     "metadata": {},
     "output_type": "execute_result"
    }
   ],
   "source": [
    "#Create a subset of data that contain the number of flights cancelled by Airline/Carrier. \n",
    "cancelled_by_airline = flights[flights['CANCELLATION_REASON'] == 'Airline/Carrier'].groupby('MONTH', as_index= False)['CANCELLATION_REASON'].agg('count').sort_values('CANCELLATION_REASON',ascending=False)\n",
    "cancelled_by_airline"
   ]
  },
  {
   "cell_type": "markdown",
   "metadata": {},
   "source": [
    "Analysis  9. How many flights per year are delayed/cancelled due to National Air System issue?"
   ]
  },
  {
   "cell_type": "code",
   "execution_count": 15,
   "metadata": {},
   "outputs": [
    {
     "data": {
      "text/html": [
       "<div>\n",
       "<style scoped>\n",
       "    .dataframe tbody tr th:only-of-type {\n",
       "        vertical-align: middle;\n",
       "    }\n",
       "\n",
       "    .dataframe tbody tr th {\n",
       "        vertical-align: top;\n",
       "    }\n",
       "\n",
       "    .dataframe thead th {\n",
       "        text-align: right;\n",
       "    }\n",
       "</style>\n",
       "<table border=\"1\" class=\"dataframe\">\n",
       "  <thead>\n",
       "    <tr style=\"text-align: right;\">\n",
       "      <th></th>\n",
       "      <th>MONTH</th>\n",
       "      <th>CANCELLATION_REASON</th>\n",
       "    </tr>\n",
       "  </thead>\n",
       "  <tbody>\n",
       "    <tr>\n",
       "      <td>3</td>\n",
       "      <td>February</td>\n",
       "      <td>2254</td>\n",
       "    </tr>\n",
       "    <tr>\n",
       "      <td>6</td>\n",
       "      <td>June</td>\n",
       "      <td>2176</td>\n",
       "    </tr>\n",
       "    <tr>\n",
       "      <td>4</td>\n",
       "      <td>January</td>\n",
       "      <td>2087</td>\n",
       "    </tr>\n",
       "    <tr>\n",
       "      <td>7</td>\n",
       "      <td>March</td>\n",
       "      <td>1639</td>\n",
       "    </tr>\n",
       "    <tr>\n",
       "      <td>1</td>\n",
       "      <td>August</td>\n",
       "      <td>1376</td>\n",
       "    </tr>\n",
       "    <tr>\n",
       "      <td>5</td>\n",
       "      <td>July</td>\n",
       "      <td>1335</td>\n",
       "    </tr>\n",
       "    <tr>\n",
       "      <td>9</td>\n",
       "      <td>November</td>\n",
       "      <td>1164</td>\n",
       "    </tr>\n",
       "    <tr>\n",
       "      <td>0</td>\n",
       "      <td>April</td>\n",
       "      <td>935</td>\n",
       "    </tr>\n",
       "    <tr>\n",
       "      <td>8</td>\n",
       "      <td>May</td>\n",
       "      <td>906</td>\n",
       "    </tr>\n",
       "    <tr>\n",
       "      <td>2</td>\n",
       "      <td>December</td>\n",
       "      <td>871</td>\n",
       "    </tr>\n",
       "    <tr>\n",
       "      <td>10</td>\n",
       "      <td>October</td>\n",
       "      <td>524</td>\n",
       "    </tr>\n",
       "    <tr>\n",
       "      <td>11</td>\n",
       "      <td>September</td>\n",
       "      <td>482</td>\n",
       "    </tr>\n",
       "  </tbody>\n",
       "</table>\n",
       "</div>"
      ],
      "text/plain": [
       "        MONTH  CANCELLATION_REASON\n",
       "3    February                 2254\n",
       "6        June                 2176\n",
       "4     January                 2087\n",
       "7       March                 1639\n",
       "1      August                 1376\n",
       "5        July                 1335\n",
       "9    November                 1164\n",
       "0       April                  935\n",
       "8         May                  906\n",
       "2    December                  871\n",
       "10    October                  524\n",
       "11  September                  482"
      ]
     },
     "execution_count": 15,
     "metadata": {},
     "output_type": "execute_result"
    }
   ],
   "source": [
    "#Create a subset of data that contain the number of flights cancelled by National Air System. \n",
    "cancelled_by_nas = flights[flights['CANCELLATION_REASON'] == 'National Air System'].groupby('MONTH', as_index= False)['CANCELLATION_REASON'].agg('count').sort_values('CANCELLATION_REASON',ascending=False)\n",
    "cancelled_by_nas\n"
   ]
  },
  {
   "cell_type": "markdown",
   "metadata": {},
   "source": [
    "Analysis 10.What are the top 10 airline/carrier by delay on average?"
   ]
  },
  {
   "cell_type": "code",
   "execution_count": 16,
   "metadata": {},
   "outputs": [
    {
     "data": {
      "text/plain": [
       "<matplotlib.axes._subplots.AxesSubplot at 0x22901292108>"
      ]
     },
     "execution_count": 16,
     "metadata": {},
     "output_type": "execute_result"
    },
    {
     "data": {
      "image/png": "[encoded data removed]",
      "text/plain": [
       "<Figure size 432x288 with 1 Axes>"
      ]
     },
     "metadata": {
      "needs_background": "light"
     },
     "output_type": "display_data"
    }
   ],
   "source": [
    "# Sorted data average delay time for each airline/carrier to show top 10\n",
    "flights_delayed_avg_sort.head(10).plot.bar()\n"
   ]
  },
  {
   "cell_type": "markdown",
   "metadata": {},
   "source": [
    "******************* Thank You *********************"
   ]
  }
 ],
 "metadata": {
  "kernelspec": {
   "display_name": "Python 3",
   "language": "python",
   "name": "python3"
  },
  "language_info": {
   "codemirror_mode": {
    "name": "ipython",
    "version": 3
   },
   "file_extension": ".py",
   "mimetype": "text/x-python",
   "name": "python",
   "nbconvert_exporter": "python",
   "pygments_lexer": "ipython3",
   "version": "3.7.4"
  }
 },
 "nbformat": 4,
 "nbformat_minor": 2
}
